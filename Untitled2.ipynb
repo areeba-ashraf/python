{
 "cells": [
  {
   "cell_type": "code",
   "execution_count": null,
   "metadata": {},
   "outputs": [
    {
     "name": "stdout",
     "output_type": "stream",
     "text": [
      "2017-CE-155\n"
     ]
    }
   ],
   "source": [
    "print(\"2017-CE-155\")\n",
    "num1=int(input(\"Enter a number: \"))\n",
    "num2=int(input(\"Enter another number: \"))\n",
    "print(\"\\n\")\n",
    "print(\"1.subtract\")\n",
    "print(\"2.Add\")\n",
    "print(\"3.Multiply\")\n",
    "print(\"4.Divide\")\n",
    "print(\"5.Exponent\")\n",
    "\n",
    "option=int(input(\"Enter your option: (1,2,3,4) \"))\n",
    "\n",
    "print(\"\\n\")\n",
    "if(option==1):\n",
    "    print(\"Your answer is \" +str(num1-num2))\n",
    "elif(option==2):\n",
    "    print(\"Your answer is \" +str(num1+num2))\n",
    "elif(option==3):\n",
    "    print(\"Your answer is \" +str(num1*num2))\n",
    "elif(option==4):\n",
    "    print(\"Your answer is \" +str(num1/num2))\n",
    "elif(option==5):\n",
    "    print(\"Your answer is \" +str(num1**num2))\n",
    "else:\n",
    "    print(\"You chose the wrong option\")"
   ]
  },
  {
   "cell_type": "code",
   "execution_count": null,
   "metadata": {},
   "outputs": [],
   "source": []
  }
 ],
 "metadata": {
  "kernelspec": {
   "display_name": "Python 3",
   "language": "python",
   "name": "python3"
  },
  "language_info": {
   "codemirror_mode": {
    "name": "ipython",
    "version": 3
   },
   "file_extension": ".py",
   "mimetype": "text/x-python",
   "name": "python",
   "nbconvert_exporter": "python",
   "pygments_lexer": "ipython3",
   "version": "3.7.4"
  }
 },
 "nbformat": 4,
 "nbformat_minor": 2
}
